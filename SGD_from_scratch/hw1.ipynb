{
 "cells": [
  {
   "cell_type": "code",
   "execution_count": 1,
   "metadata": {},
   "outputs": [
    {
     "name": "stdout",
     "output_type": "stream",
     "text": [
      "0.8951\n"
     ]
    }
   ],
   "source": [
    "import numpy as np\n",
    "\n",
    "import h5py\n",
    "import time\n",
    "import copy\n",
    "import random\n",
    "from random import randint\n",
    "\n",
    "\n",
    "#load MNIST data\n",
    "MNIST_data = h5py.File('MNISTdata.hdf5', 'r')\n",
    "x_train = np.float32(MNIST_data['x_train'][:] )\n",
    "y_train = np.int32(np.array(MNIST_data['y_train'][:,0]))\n",
    "x_test = np.float32( MNIST_data['x_test'][:] )\n",
    "y_test = np.int32( np.array( MNIST_data['y_test'][:,0] ) )\n",
    "MNIST_data.close()\n",
    "\n",
    "####################################################################################\n",
    "#Implementation of stochastic gradient descent algorithm\n",
    "def softmax(x):\n",
    "    return np.exp(x) / np.sum(np.exp(x), axis=0)\n",
    "\n",
    "\n",
    "#number of inputs\n",
    "num_inputs = 28*28\n",
    "#number of outputs\n",
    "num_outputs = 10\n",
    "model = {}\n",
    "model['W1'] = np.random.randn(num_outputs,num_inputs) / np.sqrt(num_inputs)\n",
    "model_grads = copy.deepcopy(model)\n",
    "\n",
    "\n",
    "######################################################\n",
    "\n",
    "l_rate = 0.01\n",
    "iteration_num = 15000\n",
    "theta = model['W1']\n",
    "\n",
    "step = np.zeros(10*784).reshape(10,784)\n",
    "\n",
    "i = 0\n",
    "while (i < iteration_num):\n",
    "    idx = random.randint(0, len(x_train)-1)\n",
    "    x_t = x_train[idx]\n",
    "    y_t = y_train[idx]\n",
    "    \n",
    "    fun_x = softmax(theta@x_t)\n",
    "    \n",
    "    for k in range(10):\n",
    "        if k == y_t:\n",
    "            step[k] = (1-fun_x[k])*x_t\n",
    "        else:\n",
    "            step[k] = (-fun_x[k])*x_t\n",
    "    theta = theta + l_rate*step\n",
    "    i += 1\n",
    "\n",
    "def forward(x, y, model):      \n",
    "    return theta@x\n",
    "\n",
    "#test data\n",
    "\n",
    "total_correct = 0\n",
    "\n",
    "for n in range( len(x_test)):\n",
    "    y = y_test[n]\n",
    "    x = x_test[n][:]\n",
    "    p = forward(x, y, model)\n",
    "    prediction = np.argmax(p)\n",
    "    if (prediction == y):\n",
    "        total_correct += 1\n",
    "\n",
    "print(total_correct/np.float(len(x_test) ) )"
   ]
  },
  {
   "cell_type": "code",
   "execution_count": null,
   "metadata": {},
   "outputs": [],
   "source": []
  },
  {
   "cell_type": "code",
   "execution_count": null,
   "metadata": {},
   "outputs": [],
   "source": []
  }
 ],
 "metadata": {
  "kernelspec": {
   "display_name": "Python 3",
   "language": "python",
   "name": "python3"
  },
  "language_info": {
   "codemirror_mode": {
    "name": "ipython",
    "version": 3
   },
   "file_extension": ".py",
   "mimetype": "text/x-python",
   "name": "python",
   "nbconvert_exporter": "python",
   "pygments_lexer": "ipython3",
   "version": "3.7.1"
  }
 },
 "nbformat": 4,
 "nbformat_minor": 2
}
